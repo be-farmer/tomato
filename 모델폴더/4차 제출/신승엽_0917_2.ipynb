{
  "nbformat": 4,
  "nbformat_minor": 0,
  "metadata": {
    "colab": {
      "provenance": []
    },
    "kernelspec": {
      "name": "python3",
      "display_name": "Python 3"
    },
    "language_info": {
      "name": "python"
    }
  },
  "cells": [
    {
      "cell_type": "markdown",
      "source": [
        "## Data Prepartion"
      ],
      "metadata": {
        "id": "_-A-JPZauJBU"
      }
    },
    {
      "cell_type": "code",
      "source": [
        "import pandas as pd\n",
        "import numpy as np\n",
        "from sklearn.model_selection import train_test_split\n",
        "from sklearn.preprocessing import StandardScaler\n",
        "from sklearn.impute import SimpleImputer\n",
        "from sklearn.metrics import mean_squared_error, r2_score\n",
        "from sklearn.linear_model import LinearRegression\n",
        "from sklearn.ensemble import RandomForestRegressor\n",
        "from tensorflow.keras.callbacks import EarlyStopping\n",
        "from sklearn.preprocessing import MinMaxScaler\n",
        "import matplotlib.pyplot as plt\n",
        "import tensorflow as tf\n",
        "from tensorflow import keras\n",
        "from tensorflow.keras import layers"
      ],
      "metadata": {
        "id": "LgFGwl8rjGRm"
      },
      "execution_count": 1,
      "outputs": []
    },
    {
      "cell_type": "code",
      "source": [
        "# Load the dataset\n",
        "data = pd.read_csv('/content/2023_smartFarm_AI_hackathon_dataset.csv')\n",
        "\n",
        "# Convert the 'date' column to datetime format\n",
        "data['date'] = pd.to_datetime(data['date'].astype(str), format='%Y%m%d')\n",
        "\n",
        "# Drop columns with 100% zeros\n",
        "zero_percentage = (data == 0).sum() / len(data) * 100\n",
        "data_cleaned = data.drop(columns=zero_percentage[zero_percentage == 100].index)\n",
        "\n",
        "# Define the target variables\n",
        "y_heating = data_cleaned['HeatingEnergyUsage_cumsum']\n",
        "y_outtrn = data_cleaned['outtrn_cumsum']\n",
        "\n",
        "# Extracting temporal features\n",
        "data_cleaned['day_of_week'] = data_cleaned['date'].dt.dayofweek\n",
        "data_cleaned['month'] = data_cleaned['date'].dt.month\n",
        "seasons = {12: 'Winter', 1: 'Winter', 2: 'Winter',\n",
        "           3: 'Spring', 4: 'Spring', 5: 'Spring',\n",
        "           6: 'Summer', 7: 'Summer', 8: 'Summer',\n",
        "           9: 'Fall', 10: 'Fall', 11: 'Fall'}\n",
        "data_cleaned['season'] = data_cleaned['month'].map(seasons)\n",
        "\n",
        "# Define predictors\n",
        "X = data_cleaned.drop(columns=['HeatingEnergyUsage_cumsum', 'outtrn_cumsum', 'date'])\n",
        "\n",
        "# Feature Engineering - Interaction Terms (As an example)\n",
        "X['interaction_term_1'] = X['inTp'] * X['inHd']\n",
        "\n",
        "# One-hot encoding\n",
        "X_encoded = pd.get_dummies(X, columns=['frmDist', 'day_of_week', 'month', 'season'])\n",
        "\n",
        "# Splitting the data\n",
        "X_train_encoded, X_val_encoded, y_heating_train, y_heating_val = train_test_split(X_encoded, y_heating, test_size=0.2, random_state=42)\n",
        "\n",
        "# Features to transform\n",
        "features_to_transform = ['WaterUsage', 'FertilizerUsage', 'CO2Usage']\n",
        "for feature in features_to_transform:\n",
        "    X_train_encoded[feature] = np.log1p(X_train_encoded[feature])\n",
        "\n",
        "# Handling Outliers using IQR for all numeric features\n",
        "for column in X_train_encoded.select_dtypes(include=[np.number]).columns:\n",
        "    Q1 = X_train_encoded[column].quantile(0.25)\n",
        "    Q3 = X_train_encoded[column].quantile(0.75)\n",
        "    IQR = Q3 - Q1\n",
        "    lower_bound = Q1 - 1.5 * IQR\n",
        "    upper_bound = Q3 + 1.5 * IQR\n",
        "\n",
        "    # Capping outliers\n",
        "    X_train_encoded[column] = np.where(X_train_encoded[column] < lower_bound, lower_bound, X_train_encoded[column])\n",
        "    X_train_encoded[column] = np.where(X_train_encoded[column] > upper_bound, upper_bound, X_train_encoded[column])\n",
        "\n",
        "# Create lag and rolling window features\n",
        "data_cleaned_sorted = data_cleaned.sort_values(by='date')\n",
        "features_to_lag_rolling = ['inTp', 'inHd']\n",
        "\n",
        "for feature in features_to_lag_rolling:\n",
        "    for lag in range(1, 4):  # for 3 days\n",
        "        col_name = f\"{feature}_lag_{lag}\"\n",
        "        data_cleaned_sorted[col_name] = data_cleaned_sorted.groupby('frmDist')[feature].shift(lag)\n",
        "\n",
        "        roll_name = f\"{feature}_rolling_avg_{lag}\"\n",
        "        data_cleaned_sorted[roll_name] = data_cleaned_sorted.groupby('frmDist')[feature].rolling(window=lag).mean().reset_index(0, drop=True)\n",
        "\n",
        "X_expanded = data_cleaned_sorted.drop(columns=['HeatingEnergyUsage_cumsum', 'outtrn_cumsum', 'date'])\n",
        "X_expanded_encoded = pd.get_dummies(X_expanded, columns=['frmDist', 'day_of_week', 'month', 'season'])\n",
        "X_train_expanded, X_val_expanded, y_heating_train_exp, y_heating_val_exp = train_test_split(X_expanded_encoded, y_heating, test_size=0.2, random_state=42)\n",
        "\n",
        "# Fill NaN values using forward fill and backward fill\n",
        "X_train_expanded.fillna(method='ffill', inplace=True)  # Forward fill\n",
        "X_train_expanded.fillna(method='bfill', inplace=True)  # Backward fill (if there are any NaNs left)\n",
        "\n",
        "# Forward fill and backward fill for validation set\n",
        "X_val_expanded.fillna(method='ffill', inplace=True)\n",
        "X_val_expanded.fillna(method='bfill', inplace=True)\n",
        "\n",
        "# Normalize the data\n",
        "scaler = StandardScaler()\n",
        "X_train_expanded = scaler.fit_transform(X_train_expanded)\n",
        "X_val_expanded = scaler.transform(X_val_expanded)\n",
        "\n"
      ],
      "metadata": {
        "id": "kzMC2xQLRF9u"
      },
      "execution_count": 13,
      "outputs": []
    },
    {
      "cell_type": "markdown",
      "source": [
        "## Baseline"
      ],
      "metadata": {
        "id": "70SG4PhhuQaN"
      }
    },
    {
      "cell_type": "markdown",
      "source": [
        "### Linear Regression"
      ],
      "metadata": {
        "id": "USD10umLuULN"
      }
    },
    {
      "cell_type": "code",
      "source": [
        "\n",
        "\n",
        "linear_reg = LinearRegression()\n",
        "linear_reg.fit(X_train_expanded, y_heating_train_exp)\n",
        "lr_predictions = linear_reg.predict(X_val_expanded)\n",
        "\n",
        "lr_rmse = np.sqrt(mean_squared_error(y_heating_val_exp, lr_predictions))\n",
        "lr_r2 = r2_score(y_heating_val_exp, lr_predictions)\n",
        "print(\"Linear Regression RMSE:\", lr_rmse)\n",
        "print(\"Linear Regression R^2:\", lr_r2)\n"
      ],
      "metadata": {
        "colab": {
          "base_uri": "https://localhost:8080/"
        },
        "id": "P6hOlDIaRrh8",
        "outputId": "8cede274-9567-4e1a-b9c7-352638201111"
      },
      "execution_count": 2,
      "outputs": [
        {
          "output_type": "stream",
          "name": "stdout",
          "text": [
            "Linear Regression RMSE: 555447.8841501994\n",
            "Linear Regression R^2: 0.007006582440675091\n"
          ]
        }
      ]
    },
    {
      "cell_type": "code",
      "source": [
        "\n",
        "random_forest = RandomForestRegressor(n_estimators=100, random_state=42)\n",
        "random_forest.fit(X_train_expanded, y_heating_train_exp)\n",
        "rf_predictions = random_forest.predict(X_val_expanded)\n",
        "\n",
        "rf_rmse = np.sqrt(mean_squared_error(y_heating_val_exp, rf_predictions))\n",
        "rf_r2 = r2_score(y_heating_val_exp, rf_predictions)\n",
        "print(\"Random Forest RMSE:\", rf_rmse)\n",
        "print(\"Random Forest R^2:\", rf_r2)\n"
      ],
      "metadata": {
        "colab": {
          "base_uri": "https://localhost:8080/"
        },
        "id": "lhjoay18uX00",
        "outputId": "9e597588-5f80-4e01-d32d-d7fcf27c25b4"
      },
      "execution_count": 3,
      "outputs": [
        {
          "output_type": "stream",
          "name": "stdout",
          "text": [
            "Random Forest RMSE: 492888.72630776314\n",
            "Random Forest R^2: 0.2180886709086418\n"
          ]
        }
      ]
    },
    {
      "cell_type": "markdown",
      "source": [
        "## Deep Learning"
      ],
      "metadata": {
        "id": "DMDADSKo0ZEG"
      }
    },
    {
      "cell_type": "code",
      "source": [],
      "metadata": {
        "id": "CZzDTKwzueiO"
      },
      "execution_count": 4,
      "outputs": []
    },
    {
      "cell_type": "code",
      "source": [
        "\n",
        "# Define the neural network model\n",
        "def build_model(input_shape):\n",
        "    model = keras.Sequential([\n",
        "        layers.Input(shape=input_shape),\n",
        "        layers.Dense(128, activation='relu'),\n",
        "        layers.Dense(64, activation='relu'),\n",
        "        layers.Dense(32, activation='relu'),\n",
        "        layers.Dense(1)  # No activation for the output layer for regression\n",
        "    ])\n",
        "\n",
        "    model.compile(optimizer='adam', loss='mean_squared_error')\n",
        "    return model\n",
        "\n",
        "# Create the model\n",
        "input_shape = [X_train_expanded.shape[1]]\n",
        "model = build_model(input_shape)\n",
        "\n",
        "# Define early stopping and model checkpointing\n",
        "early_stopping = keras.callbacks.EarlyStopping(\n",
        "    monitor='val_loss',\n",
        "    patience=10,\n",
        "    restore_best_weights=True\n",
        ")\n",
        "\n",
        "# Train the model\n",
        "history = model.fit(\n",
        "    X_train_expanded, y_heating_train_exp,\n",
        "    epochs=100,\n",
        "    batch_size=32,\n",
        "    validation_data=(X_val_expanded, y_heating_val_exp),\n",
        "    callbacks=[early_stopping],\n",
        "    verbose=1\n",
        ")\n",
        "\n",
        "# After training, evaluate the model on the validation set\n",
        "val_predictions = model.predict(X_val_expanded)\n",
        "nn_rmse = np.sqrt(mean_squared_error(y_heating_val_exp, val_predictions))\n",
        "nn_r2 = r2_score(y_heating_val_exp, val_predictions)\n",
        "\n",
        "print(\"Neural Network RMSE:\", nn_rmse)\n",
        "print(\"Neural Network R^2:\", nn_r2)\n",
        "\n",
        "# Plotting training history\n",
        "plt.figure(figsize=(12, 6))\n",
        "plt.plot(history.history['loss'], label='Training Loss')\n",
        "plt.plot(history.history['val_loss'], label='Validation Loss')\n",
        "plt.title('Training and Validation Loss')\n",
        "plt.xlabel('Epoch')\n",
        "plt.ylabel('Mean Squared Error')\n",
        "plt.legend()\n",
        "plt.grid(True)\n",
        "plt.show()\n"
      ],
      "metadata": {
        "colab": {
          "base_uri": "https://localhost:8080/",
          "height": 1000
        },
        "id": "wqDadpDcuoLd",
        "outputId": "feb22c20-b281-4eae-9385-1cb9d0d83947"
      },
      "execution_count": 5,
      "outputs": [
        {
          "output_type": "stream",
          "name": "stdout",
          "text": [
            "Epoch 1/100\n",
            "2121/2121 [==============================] - 7s 3ms/step - loss: 291813588992.0000 - val_loss: 309868068864.0000\n",
            "Epoch 2/100\n",
            "2121/2121 [==============================] - 7s 3ms/step - loss: 285357113344.0000 - val_loss: 308095057920.0000\n",
            "Epoch 3/100\n",
            "2121/2121 [==============================] - 5s 2ms/step - loss: 283617230848.0000 - val_loss: 307366690816.0000\n",
            "Epoch 4/100\n",
            "2121/2121 [==============================] - 7s 3ms/step - loss: 282755301376.0000 - val_loss: 307010961408.0000\n",
            "Epoch 5/100\n",
            "2121/2121 [==============================] - 6s 3ms/step - loss: 282028081152.0000 - val_loss: 306893357056.0000\n",
            "Epoch 6/100\n",
            "2121/2121 [==============================] - 7s 3ms/step - loss: 281449824256.0000 - val_loss: 306292490240.0000\n",
            "Epoch 7/100\n",
            "2121/2121 [==============================] - 6s 3ms/step - loss: 280720310272.0000 - val_loss: 305858838528.0000\n",
            "Epoch 8/100\n",
            "2121/2121 [==============================] - 6s 3ms/step - loss: 280022024192.0000 - val_loss: 305552588800.0000\n",
            "Epoch 9/100\n",
            "2121/2121 [==============================] - 5s 2ms/step - loss: 279238410240.0000 - val_loss: 305039867904.0000\n",
            "Epoch 10/100\n",
            "2121/2121 [==============================] - 6s 3ms/step - loss: 278412656640.0000 - val_loss: 304727326720.0000\n",
            "Epoch 11/100\n",
            "2121/2121 [==============================] - 5s 3ms/step - loss: 277588344832.0000 - val_loss: 304273620992.0000\n",
            "Epoch 12/100\n",
            "2121/2121 [==============================] - 5s 3ms/step - loss: 276829470720.0000 - val_loss: 303872245760.0000\n",
            "Epoch 13/100\n",
            "2121/2121 [==============================] - 7s 3ms/step - loss: 276063485952.0000 - val_loss: 303436464128.0000\n",
            "Epoch 14/100\n",
            "2121/2121 [==============================] - 5s 2ms/step - loss: 275308838912.0000 - val_loss: 303092891648.0000\n",
            "Epoch 15/100\n",
            "2121/2121 [==============================] - 6s 3ms/step - loss: 274495094784.0000 - val_loss: 302757117952.0000\n",
            "Epoch 16/100\n",
            "2121/2121 [==============================] - 6s 3ms/step - loss: 273493655552.0000 - val_loss: 302494121984.0000\n",
            "Epoch 17/100\n",
            "2121/2121 [==============================] - 7s 3ms/step - loss: 272079716352.0000 - val_loss: 301885784064.0000\n",
            "Epoch 18/100\n",
            "2121/2121 [==============================] - 6s 3ms/step - loss: 270144684032.0000 - val_loss: 302069448704.0000\n",
            "Epoch 19/100\n",
            "2121/2121 [==============================] - 7s 3ms/step - loss: 267489378304.0000 - val_loss: 300849790976.0000\n",
            "Epoch 20/100\n",
            "2121/2121 [==============================] - 6s 3ms/step - loss: 263983939584.0000 - val_loss: 300540526592.0000\n",
            "Epoch 21/100\n",
            "2121/2121 [==============================] - 7s 3ms/step - loss: 259746955264.0000 - val_loss: 300117491712.0000\n",
            "Epoch 22/100\n",
            "2121/2121 [==============================] - 5s 2ms/step - loss: 255028346880.0000 - val_loss: 300719341568.0000\n",
            "Epoch 23/100\n",
            "2121/2121 [==============================] - 6s 3ms/step - loss: 250071023616.0000 - val_loss: 301836926976.0000\n",
            "Epoch 24/100\n",
            "2121/2121 [==============================] - 6s 3ms/step - loss: 244935180288.0000 - val_loss: 304371662848.0000\n",
            "Epoch 25/100\n",
            "2121/2121 [==============================] - 6s 3ms/step - loss: 240102146048.0000 - val_loss: 308634484736.0000\n",
            "Epoch 26/100\n",
            "2121/2121 [==============================] - 6s 3ms/step - loss: 235216732160.0000 - val_loss: 308411957248.0000\n",
            "Epoch 27/100\n",
            "2121/2121 [==============================] - 6s 3ms/step - loss: 230748127232.0000 - val_loss: 306877988864.0000\n",
            "Epoch 28/100\n",
            "2121/2121 [==============================] - 5s 3ms/step - loss: 226190376960.0000 - val_loss: 309074165760.0000\n",
            "Epoch 29/100\n",
            "2121/2121 [==============================] - 6s 3ms/step - loss: 221894213632.0000 - val_loss: 312082399232.0000\n",
            "Epoch 30/100\n",
            "2121/2121 [==============================] - 6s 3ms/step - loss: 217866092544.0000 - val_loss: 310094888960.0000\n",
            "Epoch 31/100\n",
            "2121/2121 [==============================] - 6s 3ms/step - loss: 213342568448.0000 - val_loss: 312950226944.0000\n",
            "531/531 [==============================] - 1s 1ms/step\n",
            "Neural Network RMSE: 547829.7836938788\n",
            "Neural Network R^2: 0.034058076652365155\n"
          ]
        },
        {
          "output_type": "display_data",
          "data": {
            "text/plain": [
              "<Figure size 1200x600 with 1 Axes>"
            ],
            "image/png": "[encoded data removed]"
          },
          "metadata": {}
        }
      ]
    },
    {
      "cell_type": "markdown",
      "source": [
        "### LSTM"
      ],
      "metadata": {
        "id": "zmcPwRpz3OdF"
      }
    },
    {
      "cell_type": "code",
      "source": [
        "# Reshape data for LSTM\n",
        "X_train_reshaped = X_train_expanded.reshape(X_train_expanded.shape[0], 1, X_train_expanded.shape[1])\n",
        "X_val_reshaped = X_val_expanded.reshape(X_val_expanded.shape[0], 1, X_val_expanded.shape[1])\n",
        "\n",
        "# Ensure there are no NaN values in the training data\n",
        "assert not np.isnan(X_train_reshaped).any()\n",
        "assert not np.isnan(y_heating_train_exp).any()\n",
        "\n",
        "input_shape = (X_train_reshaped.shape[1], X_train_reshaped.shape[2])\n",
        "\n",
        "\n",
        "# Function to build the three LSTM models\n",
        "def build_lstm_model_v1(input_shape):\n",
        "    model = keras.Sequential([\n",
        "        layers.LSTM(128, return_sequences=True, input_shape=input_shape, kernel_initializer='he_normal'),\n",
        "        layers.Dropout(0.2),\n",
        "        layers.LSTM(64, kernel_initializer='he_normal'),\n",
        "        layers.Dropout(0.2),\n",
        "        layers.Dense(64, activation='relu', kernel_initializer='he_normal'),\n",
        "        layers.Dense(32, activation='relu', kernel_initializer='he_normal'),\n",
        "        layers.Dense(1)\n",
        "    ])\n",
        "    optimizer = keras.optimizers.Adam(learning_rate=0.0005)\n",
        "    model.compile(optimizer=optimizer, loss='mean_squared_error')\n",
        "    return model\n",
        "\n",
        "def build_lstm_model_v2(input_shape):\n",
        "    model = keras.Sequential([\n",
        "        layers.LSTM(256, return_sequences=True, input_shape=input_shape, kernel_initializer='he_normal'),\n",
        "        layers.Dropout(0.3),\n",
        "        layers.LSTM(128, kernel_initializer='he_normal'),\n",
        "        layers.Dropout(0.3),\n",
        "        layers.Dense(128, activation='relu', kernel_initializer='he_normal'),\n",
        "        layers.Dense(64, activation='relu', kernel_initializer='he_normal'),\n",
        "        layers.Dense(1)\n",
        "    ])\n",
        "    optimizer = keras.optimizers.Adam(learning_rate=0.0005)\n",
        "    model.compile(optimizer=optimizer, loss='mean_squared_error')\n",
        "    return model\n",
        "\n",
        "def build_lstm_model_v3(input_shape):\n",
        "    model = keras.Sequential([\n",
        "        layers.LSTM(64, input_shape=input_shape, kernel_initializer='he_normal'),\n",
        "        layers.Dropout(0.1),\n",
        "        layers.Dense(32, activation='relu', kernel_initializer='he_normal'),\n",
        "        layers.Dense(1)\n",
        "    ])\n",
        "    optimizer = keras.optimizers.Adam(learning_rate=0.0005)\n",
        "    model.compile(optimizer=optimizer, loss='mean_squared_error')\n",
        "    return model\n",
        "\n",
        "# Training loop for different batch sizes\n",
        "batch_sizes = [32, 64, 128]\n",
        "models = [build_lstm_model_v1, build_lstm_model_v2, build_lstm_model_v3]\n",
        "results = {}\n",
        "\n",
        "for model_func in models:\n",
        "    for batch_size in batch_sizes:\n",
        "        model_name = f\"{model_func.__name__}_batch_{batch_size}\"\n",
        "        print(f\"Training model: {model_name}\")\n",
        "\n",
        "        model = model_func(input_shape)\n",
        "        history = model.fit(\n",
        "            X_train_reshaped, y_heating_train_exp,\n",
        "            epochs=5,  # Reduced epochs for quick observation\n",
        "            batch_size=batch_size,\n",
        "            validation_data=(X_val_reshaped, y_heating_val_exp),\n",
        "            callbacks=[early_stopping],\n",
        "            verbose=1\n",
        "        )\n",
        "\n",
        "        val_predictions = model.predict(X_val_reshaped)\n",
        "        rmse = np.sqrt(mean_squared_error(y_heating_val_exp, val_predictions))\n",
        "        r2 = r2_score(y_heating_val_exp, val_predictions)\n",
        "        results[model_name] = [rmse, r2]\n"
      ],
      "metadata": {
        "colab": {
          "base_uri": "https://localhost:8080/"
        },
        "id": "9DySHKk-0d3w",
        "outputId": "a6a7d50b-c261-4941-bd2c-1346ee5bb2f5"
      },
      "execution_count": 14,
      "outputs": [
        {
          "output_type": "stream",
          "name": "stdout",
          "text": [
            "Training model: build_lstm_model_v1_batch_32\n",
            "Epoch 1/5\n",
            "2121/2121 [==============================] - 44s 9ms/step - loss: 299968200704.0000 - val_loss: 312936267776.0000\n",
            "Epoch 2/5\n",
            "2121/2121 [==============================] - 19s 9ms/step - loss: 288058343424.0000 - val_loss: 311087759360.0000\n",
            "Epoch 3/5\n",
            "2121/2121 [==============================] - 18s 9ms/step - loss: 286810603520.0000 - val_loss: 310787309568.0000\n",
            "Epoch 4/5\n",
            "2121/2121 [==============================] - 20s 10ms/step - loss: 285699014656.0000 - val_loss: 310704013312.0000\n",
            "Epoch 5/5\n",
            "2121/2121 [==============================] - 21s 10ms/step - loss: 284189753344.0000 - val_loss: 309723365376.0000\n",
            "531/531 [==============================] - 3s 3ms/step\n",
            "Training model: build_lstm_model_v1_batch_64\n",
            "Epoch 1/5\n",
            "1061/1061 [==============================] - 18s 13ms/step - loss: 304867639296.0000 - val_loss: 322839805952.0000\n",
            "Epoch 2/5\n",
            "1061/1061 [==============================] - 12s 12ms/step - loss: 292533370880.0000 - val_loss: 311636590592.0000\n",
            "Epoch 3/5\n",
            "1061/1061 [==============================] - 13s 12ms/step - loss: 287448268800.0000 - val_loss: 310660726784.0000\n",
            "Epoch 4/5\n",
            "1061/1061 [==============================] - 13s 12ms/step - loss: 286357946368.0000 - val_loss: 310375972864.0000\n",
            "Epoch 5/5\n",
            "1061/1061 [==============================] - 13s 12ms/step - loss: 285543170048.0000 - val_loss: 310366076928.0000\n",
            "531/531 [==============================] - 2s 3ms/step\n",
            "Training model: build_lstm_model_v1_batch_128\n",
            "Epoch 1/5\n",
            "531/531 [==============================] - 13s 17ms/step - loss: 306636947456.0000 - val_loss: 329336094720.0000\n",
            "Epoch 2/5\n",
            "531/531 [==============================] - 9s 17ms/step - loss: 302243217408.0000 - val_loss: 321487699968.0000\n",
            "Epoch 3/5\n",
            "531/531 [==============================] - 8s 15ms/step - loss: 293807849472.0000 - val_loss: 313491521536.0000\n",
            "Epoch 4/5\n",
            "531/531 [==============================] - 9s 17ms/step - loss: 288545636352.0000 - val_loss: 311202807808.0000\n",
            "Epoch 5/5\n",
            "531/531 [==============================] - 9s 18ms/step - loss: 286744281088.0000 - val_loss: 310570156032.0000\n",
            "531/531 [==============================] - 2s 3ms/step\n",
            "Training model: build_lstm_model_v2_batch_32\n",
            "Epoch 1/5\n",
            "2121/2121 [==============================] - 44s 19ms/step - loss: 293906776064.0000 - val_loss: 310715416576.0000\n",
            "Epoch 2/5\n",
            "2121/2121 [==============================] - 42s 20ms/step - loss: 287345213440.0000 - val_loss: 309638332416.0000\n",
            "Epoch 3/5\n",
            "2121/2121 [==============================] - 41s 19ms/step - loss: 284984279040.0000 - val_loss: 308198998016.0000\n",
            "Epoch 4/5\n",
            "2121/2121 [==============================] - 43s 20ms/step - loss: 281143869440.0000 - val_loss: 306309988352.0000\n",
            "Epoch 5/5\n",
            "2121/2121 [==============================] - 41s 19ms/step - loss: 274075385856.0000 - val_loss: 304895787008.0000\n",
            "531/531 [==============================] - 3s 4ms/step\n",
            "Training model: build_lstm_model_v2_batch_64\n",
            "Epoch 1/5\n",
            "1061/1061 [==============================] - 30s 25ms/step - loss: 297619030016.0000 - val_loss: 310709420032.0000\n",
            "Epoch 2/5\n",
            "1061/1061 [==============================] - 24s 23ms/step - loss: 287603589120.0000 - val_loss: 310359556096.0000\n",
            "Epoch 3/5\n",
            "1061/1061 [==============================] - 24s 23ms/step - loss: 286128013312.0000 - val_loss: 309643739136.0000\n",
            "Epoch 4/5\n",
            "1061/1061 [==============================] - 24s 23ms/step - loss: 284130377728.0000 - val_loss: 308974321664.0000\n",
            "Epoch 5/5\n",
            "1061/1061 [==============================] - 23s 22ms/step - loss: 280902336512.0000 - val_loss: 307687751680.0000\n",
            "531/531 [==============================] - 3s 4ms/step\n",
            "Training model: build_lstm_model_v2_batch_128\n",
            "Epoch 1/5\n",
            "531/531 [==============================] - 22s 31ms/step - loss: 304271327232.0000 - val_loss: 320353402880.0000\n",
            "Epoch 2/5\n",
            "531/531 [==============================] - 16s 30ms/step - loss: 290777268224.0000 - val_loss: 310624288768.0000\n",
            "Epoch 3/5\n",
            "531/531 [==============================] - 17s 32ms/step - loss: 286828036096.0000 - val_loss: 310193094656.0000\n",
            "Epoch 4/5\n",
            "531/531 [==============================] - 16s 30ms/step - loss: 284887777280.0000 - val_loss: 309226930176.0000\n",
            "Epoch 5/5\n",
            "531/531 [==============================] - 16s 30ms/step - loss: 282186252288.0000 - val_loss: 308195819520.0000\n",
            "531/531 [==============================] - 3s 4ms/step\n",
            "Training model: build_lstm_model_v3_batch_32\n",
            "Epoch 1/5\n",
            "2121/2121 [==============================] - 13s 5ms/step - loss: 306884673536.0000 - val_loss: 330544939008.0000\n",
            "Epoch 2/5\n",
            "2121/2121 [==============================] - 11s 5ms/step - loss: 306276204544.0000 - val_loss: 329713156096.0000\n",
            "Epoch 3/5\n",
            "2121/2121 [==============================] - 10s 5ms/step - loss: 305347297280.0000 - val_loss: 328598224896.0000\n",
            "Epoch 4/5\n",
            "2121/2121 [==============================] - 11s 5ms/step - loss: 304170532864.0000 - val_loss: 327240417280.0000\n",
            "Epoch 5/5\n",
            "2121/2121 [==============================] - 11s 5ms/step - loss: 302783954944.0000 - val_loss: 325714214912.0000\n",
            "531/531 [==============================] - 1s 2ms/step\n",
            "Training model: build_lstm_model_v3_batch_64\n",
            "Epoch 1/5\n",
            "1061/1061 [==============================] - 9s 7ms/step - loss: 306945589248.0000 - val_loss: 330723295232.0000\n",
            "Epoch 2/5\n",
            "1061/1061 [==============================] - 7s 6ms/step - loss: 306619940864.0000 - val_loss: 330267492352.0000\n",
            "Epoch 3/5\n",
            "1061/1061 [==============================] - 7s 7ms/step - loss: 306107154432.0000 - val_loss: 329655123968.0000\n",
            "Epoch 4/5\n",
            "1061/1061 [==============================] - 6s 6ms/step - loss: 305463525376.0000 - val_loss: 328912961536.0000\n",
            "Epoch 5/5\n",
            "1061/1061 [==============================] - 8s 7ms/step - loss: 304697147392.0000 - val_loss: 328056537088.0000\n",
            "531/531 [==============================] - 1s 2ms/step\n",
            "Training model: build_lstm_model_v3_batch_128\n",
            "Epoch 1/5\n",
            "531/531 [==============================] - 7s 9ms/step - loss: 306990022656.0000 - val_loss: 330868883456.0000\n",
            "Epoch 2/5\n",
            "531/531 [==============================] - 4s 8ms/step - loss: 306907643904.0000 - val_loss: 330752327680.0000\n",
            "Epoch 3/5\n",
            "531/531 [==============================] - 5s 10ms/step - loss: 306778832896.0000 - val_loss: 330596876288.0000\n",
            "Epoch 4/5\n",
            "531/531 [==============================] - 4s 8ms/step - loss: 306612699136.0000 - val_loss: 330404855808.0000\n",
            "Epoch 5/5\n",
            "531/531 [==============================] - 5s 10ms/step - loss: 306415632384.0000 - val_loss: 330181869568.0000\n",
            "531/531 [==============================] - 2s 2ms/step\n"
          ]
        }
      ]
    },
    {
      "cell_type": "code",
      "source": [
        "# Printing out the results\n",
        "for model_name, val in results.items():\n",
        "    rmse, r2 = val\n",
        "    print(f\"Model: {model_name} - RMSE: {rmse}, R2: {r2}\")"
      ],
      "metadata": {
        "colab": {
          "base_uri": "https://localhost:8080/"
        },
        "id": "Ji5TAbW23SOK",
        "outputId": "00f699e1-f2cf-45d7-f79b-5f7cd59566be"
      },
      "execution_count": 16,
      "outputs": [
        {
          "output_type": "stream",
          "name": "stdout",
          "text": [
            "Model: build_lstm_model_v1_batch_32 - RMSE: 556527.8477132707, R2: 0.003141452060485994\n",
            "Model: build_lstm_model_v1_batch_64 - RMSE: 557105.0788633166, R2: 0.001072494611757735\n",
            "Model: build_lstm_model_v1_batch_128 - RMSE: 557288.224323345, R2: 0.00041560198509094093\n",
            "Model: build_lstm_model_v2_batch_32 - RMSE: 552173.7117693581, R2: 0.01867878166573056\n",
            "Model: build_lstm_model_v2_batch_64 - RMSE: 554696.0586766886, R2: 0.00969289205386581\n",
            "Model: build_lstm_model_v2_batch_128 - RMSE: 555153.8878272792, R2: 0.008057479064434214\n",
            "Model: build_lstm_model_v3_batch_32 - RMSE: 570713.8244168137, R2: -0.048326396437814\n",
            "Model: build_lstm_model_v3_batch_64 - RMSE: 572762.0922073175, R2: -0.055864697772724625\n",
            "Model: build_lstm_model_v3_batch_128 - RMSE: 574614.5653504075, R2: -0.06270566747047113\n"
          ]
        }
      ]
    },
    {
      "cell_type": "code",
      "source": [],
      "metadata": {
        "id": "GBLToH_51Wqp"
      },
      "execution_count": null,
      "outputs": []
    },
    {
      "cell_type": "markdown",
      "source": [
        "Additional Preprocessing"
      ],
      "metadata": {
        "id": "HcewFLu0jX8G"
      }
    },
    {
      "cell_type": "code",
      "source": [
        "\n",
        "\n",
        "# Load the dataset\n",
        "data = pd.read_csv('/content/2023_smartFarm_AI_hackathon_dataset.csv')\n",
        "\n",
        "# Convert the 'date' column to datetime format\n",
        "data['date'] = pd.to_datetime(data['date'].astype(str), format='%Y%m%d')\n",
        "\n",
        "# Extracting temporal features: hour, day of week, month\n",
        "data['hour'] = data['date'].dt.hour\n",
        "data['day_of_week'] = data['date'].dt.dayofweek\n",
        "data['month'] = data['date'].dt.month\n",
        "\n",
        "# Convert cyclic temporal features to sine and cosine transformations\n",
        "hours_in_day = 24\n",
        "days_in_week = 7\n",
        "months_in_year = 12\n",
        "\n",
        "data['sin_hour'] = np.sin(2*np.pi*data['hour']/hours_in_day)\n",
        "data['cos_hour'] = np.cos(2*np.pi*data['hour']/hours_in_day)\n",
        "\n",
        "data['sin_day_of_week'] = np.sin(2*np.pi*data['day_of_week']/days_in_week)\n",
        "data['cos_day_of_week'] = np.cos(2*np.pi*data['day_of_week']/days_in_week)\n",
        "\n",
        "data['sin_month'] = np.sin(2*np.pi*data['month']/months_in_year)\n",
        "data['cos_month'] = np.cos(2*np.pi*data['month']/months_in_year)\n",
        "\n",
        "# Interaction terms\n",
        "data['inTp_x_inHd'] = data['inTp'] * data['inHd']\n",
        "\n",
        "# Create lag and rolling window features\n",
        "data_sorted = data.sort_values(by='date')\n",
        "features_to_lag_rolling = ['inTp', 'inHd']\n",
        "\n",
        "for feature in features_to_lag_rolling:\n",
        "    for lag in range(1, 4):  # for 3 days\n",
        "        col_name = f\"{feature}_lag_{lag}\"\n",
        "        data_sorted[col_name] = data_sorted.groupby('frmDist')[feature].shift(lag)\n",
        "\n",
        "        roll_name = f\"{feature}_rolling_avg_{lag}\"\n",
        "        data_sorted[roll_name] = data_sorted.groupby('frmDist')[feature].rolling(window=lag).mean().reset_index(0, drop=True)\n",
        "\n",
        "\n",
        "# One-hot encoding\n",
        "data = pd.get_dummies(data, columns=['frmDist', 'day_of_week', 'month'])\n",
        "\n",
        "\n",
        "# Fill NaN values using forward fill and backward fill\n",
        "data_sorted.fillna(method='ffill', inplace=True)  # Forward fill\n",
        "data_sorted.fillna(method='bfill', inplace=True)  # Backward fill (if there are any NaNs left)\n",
        "\n",
        "\n",
        "\n",
        "# Separate predictors and targets\n",
        "X = data_sorted.drop(columns=['HeatingEnergyUsage_cumsum', 'outtrn_cumsum', 'date'])\n",
        "y = data_sorted[['HeatingEnergyUsage_cumsum', 'outtrn_cumsum']]\n",
        "\n",
        "# Train-test split\n",
        "X_train_expanded, X_val_expanded, y_heating_train_exp, y_heating_val_exp, y_outtrn_train_exp, y_outtrn_val_exp = train_test_split(X_expanded_encoded, y_heating, y_outtrn, test_size=0.2, random_state=42)\n",
        "\n",
        "# Normalize the predictors\n",
        "scaler_X = MinMaxScaler()\n",
        "X_train_expanded_scaled = scaler_X.fit_transform(X_train_expanded)\n",
        "X_val_expanded_scaled = scaler_X.transform(X_val_expanded)\n",
        "\n",
        "# Normalize the targets\n",
        "scaler_y_heating = MinMaxScaler()\n",
        "y_heating_train_exp_scaled = scaler_y_heating.fit_transform(y_heating_train_exp.values.reshape(-1, 1))\n",
        "y_heating_val_exp_scaled = scaler_y_heating.transform(y_heating_val_exp.values.reshape(-1, 1))\n",
        "\n",
        "scaler_y_outtrn = MinMaxScaler()\n",
        "y_outtrn_train_exp_scaled = scaler_y_outtrn.fit_transform(y_outtrn_train_exp.values.reshape(-1, 1))\n",
        "y_outtrn_val_exp_scaled = scaler_y_outtrn.transform(y_outtrn_val_exp.values.reshape(-1, 1))\n",
        "\n"
      ],
      "metadata": {
        "id": "oFPswWKUjaX_"
      },
      "execution_count": 49,
      "outputs": []
    },
    {
      "cell_type": "code",
      "source": [
        "\n",
        "\n",
        "\n",
        "\n",
        "def build_multi_output_model(input_shape):\n",
        "    # Shared Input\n",
        "    shared_input = layers.Input(shape=input_shape, name='shared_input')\n",
        "\n",
        "    # Shared Layers\n",
        "    x = layers.Dense(128, activation='relu', kernel_initializer='he_normal')(shared_input)\n",
        "    x = layers.Dropout(0.2)(x)\n",
        "    x = layers.Dense(64, activation='relu', kernel_initializer='he_normal')(x)\n",
        "    x = layers.Dropout(0.2)(x)\n",
        "\n",
        "    # HeatingEnergyUsage_cumsum Branch\n",
        "    heating_output = layers.Dense(32, activation='relu', kernel_initializer='he_normal')(x)\n",
        "    heating_output = layers.Dropout(0.2)(heating_output)\n",
        "    heating_output = layers.Dense(1, name='heating_output')(heating_output)\n",
        "\n",
        "    # outtrn_cumsum Branch\n",
        "    outtrn_output = layers.Dense(32, activation='relu', kernel_initializer='he_normal')(x)\n",
        "    outtrn_output = layers.Dropout(0.2)(outtrn_output)\n",
        "    outtrn_output = layers.Dense(1, name='outtrn_output')(outtrn_output)\n",
        "\n",
        "    # Combine into a Model\n",
        "    model = keras.Model(inputs=shared_input, outputs=[heating_output, outtrn_output])\n",
        "\n",
        "    # Compile the Model\n",
        "    model.compile(optimizer='adam', loss='mean_squared_error', metrics=[tf.keras.metrics.RootMeanSquaredError()])\n",
        "\n",
        "    return model\n",
        "\n",
        "# Create the multi-output model\n",
        "input_shape = (X_train_reshaped.shape[1], X_train_reshaped.shape[2])\n",
        "multi_output_model = build_multi_output_model(input_shape)\n",
        "\n",
        "# Print the model summary\n",
        "multi_output_model.summary()"
      ],
      "metadata": {
        "id": "idRrQXD8kpNK",
        "outputId": "bdeebf8e-4563-4fcf-bc54-9b804e99abad",
        "colab": {
          "base_uri": "https://localhost:8080/"
        }
      },
      "execution_count": 52,
      "outputs": [
        {
          "output_type": "stream",
          "name": "stdout",
          "text": [
            "Model: \"model_3\"\n",
            "__________________________________________________________________________________________________\n",
            " Layer (type)                Output Shape                 Param #   Connected to                  \n",
            "==================================================================================================\n",
            " shared_input (InputLayer)   [(None, 1, 430)]             0         []                            \n",
            "                                                                                                  \n",
            " dense_58 (Dense)            (None, 1, 128)               55168     ['shared_input[0][0]']        \n",
            "                                                                                                  \n",
            " dropout_39 (Dropout)        (None, 1, 128)               0         ['dense_58[0][0]']            \n",
            "                                                                                                  \n",
            " dense_59 (Dense)            (None, 1, 64)                8256      ['dropout_39[0][0]']          \n",
            "                                                                                                  \n",
            " dropout_40 (Dropout)        (None, 1, 64)                0         ['dense_59[0][0]']            \n",
            "                                                                                                  \n",
            " dense_60 (Dense)            (None, 1, 32)                2080      ['dropout_40[0][0]']          \n",
            "                                                                                                  \n",
            " dense_61 (Dense)            (None, 1, 32)                2080      ['dropout_40[0][0]']          \n",
            "                                                                                                  \n",
            " dropout_41 (Dropout)        (None, 1, 32)                0         ['dense_60[0][0]']            \n",
            "                                                                                                  \n",
            " dropout_42 (Dropout)        (None, 1, 32)                0         ['dense_61[0][0]']            \n",
            "                                                                                                  \n",
            " heating_output (Dense)      (None, 1, 1)                 33        ['dropout_41[0][0]']          \n",
            "                                                                                                  \n",
            " outtrn_output (Dense)       (None, 1, 1)                 33        ['dropout_42[0][0]']          \n",
            "                                                                                                  \n",
            "==================================================================================================\n",
            "Total params: 67650 (264.26 KB)\n",
            "Trainable params: 67650 (264.26 KB)\n",
            "Non-trainable params: 0 (0.00 Byte)\n",
            "__________________________________________________________________________________________________\n"
          ]
        }
      ]
    },
    {
      "cell_type": "code",
      "source": [
        "\n",
        "\n",
        "early_stopping = EarlyStopping(monitor='val_loss', patience=10, restore_best_weights=True)\n",
        "\n",
        "history = multi_output_model.fit(\n",
        "    X_train_reshaped,\n",
        "    {'heating_output': y_heating_train_exp_scaled, 'outtrn_output': y_outtrn_train_exp_scaled},\n",
        "    epochs=50,\n",
        "    batch_size=32,\n",
        "    validation_data=(X_val_reshaped, {'heating_output': y_heating_val_exp_scaled, 'outtrn_output': y_outtrn_val_exp_scaled}),\n",
        "    callbacks=[early_stopping],\n",
        "    verbose=1\n",
        ")"
      ],
      "metadata": {
        "id": "y9ErBI1Pmh9Q",
        "outputId": "6fb34340-08e2-45ea-a123-d4a6b62db43a",
        "colab": {
          "base_uri": "https://localhost:8080/",
          "height": 745
        }
      },
      "execution_count": 53,
      "outputs": [
        {
          "output_type": "stream",
          "name": "stdout",
          "text": [
            "Epoch 1/50\n",
            "2112/2121 [============================>.] - ETA: 0s - loss: 0.1451 - heating_output_loss: 0.0680 - outtrn_output_loss: 0.0771 - heating_output_root_mean_squared_error: 0.2607 - outtrn_output_root_mean_squared_error: 0.2776"
          ]
        },
        {
          "output_type": "error",
          "ename": "ValueError",
          "evalue": "ignored",
          "traceback": [
            "\u001b[0;31m---------------------------------------------------------------------------\u001b[0m",
            "\u001b[0;31mValueError\u001b[0m                                Traceback (most recent call last)",
            "\u001b[0;32m<ipython-input-53-101c37776497>\u001b[0m in \u001b[0;36m<cell line: 5>\u001b[0;34m()\u001b[0m\n\u001b[1;32m      3\u001b[0m \u001b[0mearly_stopping\u001b[0m \u001b[0;34m=\u001b[0m \u001b[0mEarlyStopping\u001b[0m\u001b[0;34m(\u001b[0m\u001b[0mmonitor\u001b[0m\u001b[0;34m=\u001b[0m\u001b[0;34m'val_loss'\u001b[0m\u001b[0;34m,\u001b[0m \u001b[0mpatience\u001b[0m\u001b[0;34m=\u001b[0m\u001b[0;36m10\u001b[0m\u001b[0;34m,\u001b[0m \u001b[0mrestore_best_weights\u001b[0m\u001b[0;34m=\u001b[0m\u001b[0;32mTrue\u001b[0m\u001b[0;34m)\u001b[0m\u001b[0;34m\u001b[0m\u001b[0;34m\u001b[0m\u001b[0m\n\u001b[1;32m      4\u001b[0m \u001b[0;34m\u001b[0m\u001b[0m\n\u001b[0;32m----> 5\u001b[0;31m history = multi_output_model.fit(\n\u001b[0m\u001b[1;32m      6\u001b[0m     \u001b[0mX_train_reshaped\u001b[0m\u001b[0;34m,\u001b[0m\u001b[0;34m\u001b[0m\u001b[0;34m\u001b[0m\u001b[0m\n\u001b[1;32m      7\u001b[0m     \u001b[0;34m{\u001b[0m\u001b[0;34m'heating_output'\u001b[0m\u001b[0;34m:\u001b[0m \u001b[0my_heating_train_exp_scaled\u001b[0m\u001b[0;34m,\u001b[0m \u001b[0;34m'outtrn_output'\u001b[0m\u001b[0;34m:\u001b[0m \u001b[0my_outtrn_train_exp_scaled\u001b[0m\u001b[0;34m}\u001b[0m\u001b[0;34m,\u001b[0m\u001b[0;34m\u001b[0m\u001b[0;34m\u001b[0m\u001b[0m\n",
            "\u001b[0;32m/usr/local/lib/python3.10/dist-packages/keras/src/utils/traceback_utils.py\u001b[0m in \u001b[0;36merror_handler\u001b[0;34m(*args, **kwargs)\u001b[0m\n\u001b[1;32m     68\u001b[0m             \u001b[0;31m# To get the full stack trace, call:\u001b[0m\u001b[0;34m\u001b[0m\u001b[0;34m\u001b[0m\u001b[0m\n\u001b[1;32m     69\u001b[0m             \u001b[0;31m# `tf.debugging.disable_traceback_filtering()`\u001b[0m\u001b[0;34m\u001b[0m\u001b[0;34m\u001b[0m\u001b[0m\n\u001b[0;32m---> 70\u001b[0;31m             \u001b[0;32mraise\u001b[0m \u001b[0me\u001b[0m\u001b[0;34m.\u001b[0m\u001b[0mwith_traceback\u001b[0m\u001b[0;34m(\u001b[0m\u001b[0mfiltered_tb\u001b[0m\u001b[0;34m)\u001b[0m \u001b[0;32mfrom\u001b[0m \u001b[0;32mNone\u001b[0m\u001b[0;34m\u001b[0m\u001b[0;34m\u001b[0m\u001b[0m\n\u001b[0m\u001b[1;32m     71\u001b[0m         \u001b[0;32mfinally\u001b[0m\u001b[0;34m:\u001b[0m\u001b[0;34m\u001b[0m\u001b[0;34m\u001b[0m\u001b[0m\n\u001b[1;32m     72\u001b[0m             \u001b[0;32mdel\u001b[0m \u001b[0mfiltered_tb\u001b[0m\u001b[0;34m\u001b[0m\u001b[0;34m\u001b[0m\u001b[0m\n",
            "\u001b[0;32m/usr/local/lib/python3.10/dist-packages/keras/src/engine/training.py\u001b[0m in \u001b[0;36mtf__test_function\u001b[0;34m(iterator)\u001b[0m\n\u001b[1;32m     13\u001b[0m                 \u001b[0;32mtry\u001b[0m\u001b[0;34m:\u001b[0m\u001b[0;34m\u001b[0m\u001b[0;34m\u001b[0m\u001b[0m\n\u001b[1;32m     14\u001b[0m                     \u001b[0mdo_return\u001b[0m \u001b[0;34m=\u001b[0m \u001b[0;32mTrue\u001b[0m\u001b[0;34m\u001b[0m\u001b[0;34m\u001b[0m\u001b[0m\n\u001b[0;32m---> 15\u001b[0;31m                     \u001b[0mretval_\u001b[0m \u001b[0;34m=\u001b[0m \u001b[0mag__\u001b[0m\u001b[0;34m.\u001b[0m\u001b[0mconverted_call\u001b[0m\u001b[0;34m(\u001b[0m\u001b[0mag__\u001b[0m\u001b[0;34m.\u001b[0m\u001b[0mld\u001b[0m\u001b[0;34m(\u001b[0m\u001b[0mstep_function\u001b[0m\u001b[0;34m)\u001b[0m\u001b[0;34m,\u001b[0m \u001b[0;34m(\u001b[0m\u001b[0mag__\u001b[0m\u001b[0;34m.\u001b[0m\u001b[0mld\u001b[0m\u001b[0;34m(\u001b[0m\u001b[0mself\u001b[0m\u001b[0;34m)\u001b[0m\u001b[0;34m,\u001b[0m \u001b[0mag__\u001b[0m\u001b[0;34m.\u001b[0m\u001b[0mld\u001b[0m\u001b[0;34m(\u001b[0m\u001b[0miterator\u001b[0m\u001b[0;34m)\u001b[0m\u001b[0;34m)\u001b[0m\u001b[0;34m,\u001b[0m \u001b[0;32mNone\u001b[0m\u001b[0;34m,\u001b[0m \u001b[0mfscope\u001b[0m\u001b[0;34m)\u001b[0m\u001b[0;34m\u001b[0m\u001b[0;34m\u001b[0m\u001b[0m\n\u001b[0m\u001b[1;32m     16\u001b[0m                 \u001b[0;32mexcept\u001b[0m\u001b[0;34m:\u001b[0m\u001b[0;34m\u001b[0m\u001b[0;34m\u001b[0m\u001b[0m\n\u001b[1;32m     17\u001b[0m                     \u001b[0mdo_return\u001b[0m \u001b[0;34m=\u001b[0m \u001b[0;32mFalse\u001b[0m\u001b[0;34m\u001b[0m\u001b[0;34m\u001b[0m\u001b[0m\n",
            "\u001b[0;31mValueError\u001b[0m: in user code:\n\n    File \"/usr/local/lib/python3.10/dist-packages/keras/src/engine/training.py\", line 1972, in test_function  *\n        return step_function(self, iterator)\n    File \"/usr/local/lib/python3.10/dist-packages/keras/src/engine/training.py\", line 1956, in step_function  **\n        outputs = model.distribute_strategy.run(run_step, args=(data,))\n    File \"/usr/local/lib/python3.10/dist-packages/keras/src/engine/training.py\", line 1944, in run_step  **\n        outputs = model.test_step(data)\n    File \"/usr/local/lib/python3.10/dist-packages/keras/src/engine/training.py\", line 1850, in test_step\n        y_pred = self(x, training=False)\n    File \"/usr/local/lib/python3.10/dist-packages/keras/src/utils/traceback_utils.py\", line 70, in error_handler\n        raise e.with_traceback(filtered_tb) from None\n    File \"/usr/local/lib/python3.10/dist-packages/keras/src/engine/input_spec.py\", line 298, in assert_input_compatibility\n        raise ValueError(\n\n    ValueError: Input 0 of layer \"model_3\" is incompatible with the layer: expected shape=(None, 1, 430), found shape=(None, 1, 434)\n"
          ]
        }
      ]
    },
    {
      "cell_type": "code",
      "source": [
        "X_train_reshaped.shape"
      ],
      "metadata": {
        "id": "8h7_YCePqapJ",
        "outputId": "d6005e34-8e8e-4c63-c735-fd78f372347c",
        "colab": {
          "base_uri": "https://localhost:8080/"
        }
      },
      "execution_count": 41,
      "outputs": [
        {
          "output_type": "execute_result",
          "data": {
            "text/plain": [
              "(67872, 1, 430)"
            ]
          },
          "metadata": {},
          "execution_count": 41
        }
      ]
    },
    {
      "cell_type": "code",
      "source": [
        "\n",
        "\n",
        "X_val_reshaped = X_val_expanded.to_numpy().astype('float32').reshape(X_val_expanded.shape[0], 1, X_val_expanded.shape[1])\n",
        "predictions = multi_output_model.predict(X_val_reshaped)\n",
        "\n",
        "\n",
        "# RMSE for heating\n",
        "rmse_heating = np.sqrt(mean_squared_error(y_heating_val_exp_scaled, predictions_heating))\n",
        "print(f\"RMSE for Heating: {rmse_heating}\")\n",
        "\n",
        "# R2 for heating\n",
        "r2_heating = r2_score(y_heating_val_exp_scaled, predictions_heating)\n",
        "print(f\"R2 for Heating: {r2_heating}\")\n",
        "\n",
        "# RMSE for outtrn\n",
        "rmse_outtrn = np.sqrt(mean_squared_error(y_outtrn_val_exp_scaled, predictions_outtrn))\n",
        "print(f\"RMSE for Outtrn: {rmse_outtrn}\")\n",
        "\n",
        "# R2 for outtrn\n",
        "r2_outtrn = r2_score(y_outtrn_val_exp_scaled, predictions_outtrn)\n",
        "print(f\"R2 for Outtrn: {r2_outtrn}\")\n"
      ],
      "metadata": {
        "id": "ei0bTceCmndb",
        "outputId": "12137dbf-bfff-4cb1-9f56-ceb19e35071b",
        "colab": {
          "base_uri": "https://localhost:8080/",
          "height": 688
        }
      },
      "execution_count": 48,
      "outputs": [
        {
          "output_type": "error",
          "ename": "ValueError",
          "evalue": "ignored",
          "traceback": [
            "\u001b[0;31m---------------------------------------------------------------------------\u001b[0m",
            "\u001b[0;31mValueError\u001b[0m                                Traceback (most recent call last)",
            "\u001b[0;32m<ipython-input-48-3b6817353a3f>\u001b[0m in \u001b[0;36m<cell line: 4>\u001b[0;34m()\u001b[0m\n\u001b[1;32m      2\u001b[0m \u001b[0;34m\u001b[0m\u001b[0m\n\u001b[1;32m      3\u001b[0m \u001b[0mX_val_reshaped\u001b[0m \u001b[0;34m=\u001b[0m \u001b[0mX_val_expanded\u001b[0m\u001b[0;34m.\u001b[0m\u001b[0mto_numpy\u001b[0m\u001b[0;34m(\u001b[0m\u001b[0;34m)\u001b[0m\u001b[0;34m.\u001b[0m\u001b[0mastype\u001b[0m\u001b[0;34m(\u001b[0m\u001b[0;34m'float32'\u001b[0m\u001b[0;34m)\u001b[0m\u001b[0;34m.\u001b[0m\u001b[0mreshape\u001b[0m\u001b[0;34m(\u001b[0m\u001b[0mX_val_expanded\u001b[0m\u001b[0;34m.\u001b[0m\u001b[0mshape\u001b[0m\u001b[0;34m[\u001b[0m\u001b[0;36m0\u001b[0m\u001b[0;34m]\u001b[0m\u001b[0;34m,\u001b[0m \u001b[0;36m1\u001b[0m\u001b[0;34m,\u001b[0m \u001b[0mX_val_expanded\u001b[0m\u001b[0;34m.\u001b[0m\u001b[0mshape\u001b[0m\u001b[0;34m[\u001b[0m\u001b[0;36m1\u001b[0m\u001b[0;34m]\u001b[0m\u001b[0;34m)\u001b[0m\u001b[0;34m\u001b[0m\u001b[0;34m\u001b[0m\u001b[0m\n\u001b[0;32m----> 4\u001b[0;31m \u001b[0mpredictions\u001b[0m \u001b[0;34m=\u001b[0m \u001b[0mmulti_output_model\u001b[0m\u001b[0;34m.\u001b[0m\u001b[0mpredict\u001b[0m\u001b[0;34m(\u001b[0m\u001b[0mX_val_reshaped\u001b[0m\u001b[0;34m)\u001b[0m\u001b[0;34m\u001b[0m\u001b[0;34m\u001b[0m\u001b[0m\n\u001b[0m\u001b[1;32m      5\u001b[0m \u001b[0;34m\u001b[0m\u001b[0m\n\u001b[1;32m      6\u001b[0m \u001b[0;34m\u001b[0m\u001b[0m\n",
            "\u001b[0;32m/usr/local/lib/python3.10/dist-packages/keras/src/utils/traceback_utils.py\u001b[0m in \u001b[0;36merror_handler\u001b[0;34m(*args, **kwargs)\u001b[0m\n\u001b[1;32m     68\u001b[0m             \u001b[0;31m# To get the full stack trace, call:\u001b[0m\u001b[0;34m\u001b[0m\u001b[0;34m\u001b[0m\u001b[0m\n\u001b[1;32m     69\u001b[0m             \u001b[0;31m# `tf.debugging.disable_traceback_filtering()`\u001b[0m\u001b[0;34m\u001b[0m\u001b[0;34m\u001b[0m\u001b[0m\n\u001b[0;32m---> 70\u001b[0;31m             \u001b[0;32mraise\u001b[0m \u001b[0me\u001b[0m\u001b[0;34m.\u001b[0m\u001b[0mwith_traceback\u001b[0m\u001b[0;34m(\u001b[0m\u001b[0mfiltered_tb\u001b[0m\u001b[0;34m)\u001b[0m \u001b[0;32mfrom\u001b[0m \u001b[0;32mNone\u001b[0m\u001b[0;34m\u001b[0m\u001b[0;34m\u001b[0m\u001b[0m\n\u001b[0m\u001b[1;32m     71\u001b[0m         \u001b[0;32mfinally\u001b[0m\u001b[0;34m:\u001b[0m\u001b[0;34m\u001b[0m\u001b[0;34m\u001b[0m\u001b[0m\n\u001b[1;32m     72\u001b[0m             \u001b[0;32mdel\u001b[0m \u001b[0mfiltered_tb\u001b[0m\u001b[0;34m\u001b[0m\u001b[0;34m\u001b[0m\u001b[0m\n",
            "\u001b[0;32m/usr/local/lib/python3.10/dist-packages/keras/src/engine/training.py\u001b[0m in \u001b[0;36mtf__predict_function\u001b[0;34m(iterator)\u001b[0m\n\u001b[1;32m     13\u001b[0m                 \u001b[0;32mtry\u001b[0m\u001b[0;34m:\u001b[0m\u001b[0;34m\u001b[0m\u001b[0;34m\u001b[0m\u001b[0m\n\u001b[1;32m     14\u001b[0m                     \u001b[0mdo_return\u001b[0m \u001b[0;34m=\u001b[0m \u001b[0;32mTrue\u001b[0m\u001b[0;34m\u001b[0m\u001b[0;34m\u001b[0m\u001b[0m\n\u001b[0;32m---> 15\u001b[0;31m                     \u001b[0mretval_\u001b[0m \u001b[0;34m=\u001b[0m \u001b[0mag__\u001b[0m\u001b[0;34m.\u001b[0m\u001b[0mconverted_call\u001b[0m\u001b[0;34m(\u001b[0m\u001b[0mag__\u001b[0m\u001b[0;34m.\u001b[0m\u001b[0mld\u001b[0m\u001b[0;34m(\u001b[0m\u001b[0mstep_function\u001b[0m\u001b[0;34m)\u001b[0m\u001b[0;34m,\u001b[0m \u001b[0;34m(\u001b[0m\u001b[0mag__\u001b[0m\u001b[0;34m.\u001b[0m\u001b[0mld\u001b[0m\u001b[0;34m(\u001b[0m\u001b[0mself\u001b[0m\u001b[0;34m)\u001b[0m\u001b[0;34m,\u001b[0m \u001b[0mag__\u001b[0m\u001b[0;34m.\u001b[0m\u001b[0mld\u001b[0m\u001b[0;34m(\u001b[0m\u001b[0miterator\u001b[0m\u001b[0;34m)\u001b[0m\u001b[0;34m)\u001b[0m\u001b[0;34m,\u001b[0m \u001b[0;32mNone\u001b[0m\u001b[0;34m,\u001b[0m \u001b[0mfscope\u001b[0m\u001b[0;34m)\u001b[0m\u001b[0;34m\u001b[0m\u001b[0;34m\u001b[0m\u001b[0m\n\u001b[0m\u001b[1;32m     16\u001b[0m                 \u001b[0;32mexcept\u001b[0m\u001b[0;34m:\u001b[0m\u001b[0;34m\u001b[0m\u001b[0;34m\u001b[0m\u001b[0m\n\u001b[1;32m     17\u001b[0m                     \u001b[0mdo_return\u001b[0m \u001b[0;34m=\u001b[0m \u001b[0;32mFalse\u001b[0m\u001b[0;34m\u001b[0m\u001b[0;34m\u001b[0m\u001b[0m\n",
            "\u001b[0;31mValueError\u001b[0m: in user code:\n\n    File \"/usr/local/lib/python3.10/dist-packages/keras/src/engine/training.py\", line 2341, in predict_function  *\n        return step_function(self, iterator)\n    File \"/usr/local/lib/python3.10/dist-packages/keras/src/engine/training.py\", line 2327, in step_function  **\n        outputs = model.distribute_strategy.run(run_step, args=(data,))\n    File \"/usr/local/lib/python3.10/dist-packages/keras/src/engine/training.py\", line 2315, in run_step  **\n        outputs = model.predict_step(data)\n    File \"/usr/local/lib/python3.10/dist-packages/keras/src/engine/training.py\", line 2283, in predict_step\n        return self(x, training=False)\n    File \"/usr/local/lib/python3.10/dist-packages/keras/src/utils/traceback_utils.py\", line 70, in error_handler\n        raise e.with_traceback(filtered_tb) from None\n    File \"/usr/local/lib/python3.10/dist-packages/keras/src/engine/input_spec.py\", line 298, in assert_input_compatibility\n        raise ValueError(\n\n    ValueError: Input 0 of layer \"model_1\" is incompatible with the layer: expected shape=(None, 1, 430), found shape=(None, 1, 434)\n"
          ]
        }
      ]
    },
    {
      "cell_type": "code",
      "source": [
        "# 1. Print the shape of X_train_expanded and X_val_expanded\n",
        "print(\"X_train_expanded shape:\", X_train_expanded.shape)\n",
        "print(\"X_val_expanded shape:\", X_val_expanded.shape)\n",
        "\n",
        "# 2. Compare the columns of X_train_expanded and X_val_expanded\n",
        "missing_columns_in_val = set(X_train_expanded.columns) - set(X_val_expanded.columns)\n",
        "missing_columns_in_train = set(X_val_expanded.columns) - set(X_train_expanded.columns)\n",
        "\n",
        "print(\"Columns present in train but missing in validation:\", missing_columns_in_val)\n",
        "print(\"Columns present in validation but missing in train:\", missing_columns_in_train)\n"
      ],
      "metadata": {
        "id": "M38EZN-ioQdD",
        "outputId": "48eb2a1c-c80c-4762-8f74-62a24917bac5",
        "colab": {
          "base_uri": "https://localhost:8080/"
        }
      },
      "execution_count": 44,
      "outputs": [
        {
          "output_type": "stream",
          "name": "stdout",
          "text": [
            "X_train_expanded shape: (67872, 434)\n",
            "X_val_expanded shape: (16968, 434)\n",
            "Columns present in train but missing in validation: set()\n",
            "Columns present in validation but missing in train: set()\n"
          ]
        }
      ]
    },
    {
      "cell_type": "code",
      "source": [
        "print(X_train_expanded.columns)\n"
      ],
      "metadata": {
        "id": "JlUjmEXjq4hl",
        "outputId": "0d526034-abb9-41f3-e265-1a1f8f95a9a6",
        "colab": {
          "base_uri": "https://localhost:8080/"
        }
      },
      "execution_count": 45,
      "outputs": [
        {
          "output_type": "stream",
          "name": "stdout",
          "text": [
            "Index(['inTp', 'inHd', 'otmsuplyqy', 'acSlrdQy', 'cunt', 'ph', 'outTp',\n",
            "       'outWs', 'inCo2', 'ec',\n",
            "       ...\n",
            "       'month_7', 'month_8', 'month_9', 'month_10', 'month_11', 'month_12',\n",
            "       'season_Fall', 'season_Spring', 'season_Summer', 'season_Winter'],\n",
            "      dtype='object', length=434)\n"
          ]
        }
      ]
    },
    {
      "cell_type": "code",
      "source": [],
      "metadata": {
        "id": "tO4e0vqnrTWW"
      },
      "execution_count": null,
      "outputs": []
    }
  ]
}