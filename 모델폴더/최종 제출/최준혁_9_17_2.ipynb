{
  "nbformat": 4,
  "nbformat_minor": 0,
  "metadata": {
    "colab": {
      "provenance": []
    },
    "kernelspec": {
      "name": "python3",
      "display_name": "Python 3"
    },
    "language_info": {
      "name": "python"
    }
  },
  "cells": [
    {
      "cell_type": "code",
      "source": [
        "import numpy as np\n",
        "import pandas as pd\n",
        "from sklearn.metrics import mean_squared_error, r2_score\n",
        "from sklearn.ensemble import ExtraTreesRegressor\n",
        "from sklearn.model_selection import train_test_split\n",
        "from sklearn.preprocessing import StandardScaler\n",
        "\n",
        "# RMSE 계산 함수 정의\n",
        "def calculate_rmse(targets, predictions):\n",
        "    return np.sqrt(mean_squared_error(targets, predictions))\n",
        "\n",
        "# R2 스코어 계산 함수 정의\n",
        "def calculate_R2_score(y_test, y_pred):\n",
        "    return r2_score(y_test, y_pred)\n",
        "\n",
        "# 데이터 불러오기\n",
        "input_data = pd.read_csv('2023_smartFarm_AI_hackathon_dataset.csv')\n",
        "\n",
        "# 데이터 전처리\n",
        "# 'frmDist' 열을 기준으로 데이터 그룹화 및 평균값 계산하여 'group_df'에 저장\n",
        "group_df = input_data.groupby('frmDist').mean()\n",
        "\n",
        "# 'frmDist' 열을 기준으로 데이터 다시 그룹화하고, 'outtrn_cumsum' 열에서 최댓값 계산하여 'group_outtrn_cumsum_df'에 저장\n",
        "group_outtrn_cumsum_df = input_data.groupby('frmDist').max()[['outtrn_cumsum']]\n",
        "\n",
        "# 'group_df'에서 'outtrn_cumsum'과 'date' 열 제거\n",
        "group_df.drop(['outtrn_cumsum', 'date'], axis=1, inplace=True)\n",
        "\n",
        "# 'group_df'와 'group_outtrn_cumsum_df'를 합쳐 'merge_df' 데이터프레임 생성\n",
        "merge_df = pd.concat([group_df, group_outtrn_cumsum_df], axis=1)\n",
        "\n",
        "# 'merge_df'에서 입력 피처(독립 변수)와 타겟 변수(종속 변수) 분리\n",
        "train_data = merge_df.drop(['outtrn_cumsum', 'HeatingEnergyUsage_cumsum'], axis=1)\n",
        "target_data = merge_df.loc[:,['outtrn_cumsum', 'HeatingEnergyUsage_cumsum']]\n",
        "\n",
        "# 데이터 분할: 훈련 데이터와 테스트 데이터로 분할\n",
        "X_train, X_test, y_train, y_test = train_test_split(train_data, target_data, random_state=42, test_size=0.2)\n",
        "\n",
        "# 데이터 표준화\n",
        "ss = StandardScaler()\n",
        "ss.fit(X_train)\n",
        "\n",
        "train_scaled = ss.transform(X_train)\n",
        "test_scaled = ss.transform(X_test)\n",
        "\n",
        "# ExtraTreesRegressor 모델 설정 및 하이퍼파라미터 조정\n",
        "model = ExtraTreesRegressor(\n",
        "    n_estimators=500,\n",
        "    max_depth=5,  # 최대 트리 깊이를 제한\n",
        "    min_samples_split=2,  # 노드를 분할하기 위한 최소 샘플 수\n",
        "    min_samples_leaf=1,  # 리프 노드에 필요한 최소 샘플 수\n",
        "    random_state=42\n",
        ")\n",
        "\n",
        "# 모델 훈련\n",
        "model.fit(train_scaled, y_train)\n",
        "\n",
        "# 모델을 사용하여 테스트 데이터에 대한 예측 수행\n",
        "y_pred = model.predict(test_scaled)\n",
        "\n",
        "# RMSE 및 R2 스코어 계산\n",
        "rmse = calculate_rmse(y_test, y_pred)\n",
        "r2score = calculate_R2_score(y_test, y_pred)\n",
        "\n",
        "# 결과 출력\n",
        "print(\"RMSE:\", rmse)\n",
        "print(\"R2_score:\", r2score)\n"
      ],
      "metadata": {
        "colab": {
          "base_uri": "https://localhost:8080/"
        },
        "id": "ORX6aio9BzYW",
        "outputId": "1e11f390-b59e-4004-9847-410dc8fd852d"
      },
      "execution_count": 27,
      "outputs": [
        {
          "output_type": "stream",
          "name": "stdout",
          "text": [
            "RMSE: 14335.79892148121\n",
            "R2_score: 0.9991312057141644\n"
          ]
        }
      ]
    }
  ]
}