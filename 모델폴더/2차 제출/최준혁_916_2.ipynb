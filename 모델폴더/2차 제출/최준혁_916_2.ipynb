{
  "cells": [
    {
      "cell_type": "code",
      "execution_count": 29,
      "metadata": {
        "colab": {
          "base_uri": "https://localhost:8080/"
        },
        "id": "ddehBA4IQy1T",
        "outputId": "d6af9ba7-48bd-48ad-b21a-5d92b5de9632"
      },
      "outputs": [
        {
          "name": "stdout",
          "output_type": "stream",
          "text": [
            "RMSE: 29883.836819457\n",
            "R-squared (R2): 0.9888673562575706\n"
          ]
        }
      ],
      "source": [
        "import pandas as pd\n",
        "import numpy as np\n",
        "from sklearn.model_selection import train_test_split\n",
        "from sklearn.preprocessing import StandardScaler\n",
        "from sklearn.ensemble import ExtraTreesRegressor\n",
        "from math import sqrt\n",
        "\n",
        "def calculate_rmse(targets, predictions):\n",
        "    from sklearn.metrics import mean_squared_error\n",
        "    return np.sqrt(mean_squared_error(targets, predictions))\n",
        "\n",
        "def calculate_R2_score(y_test,y_pred):\n",
        "    from sklearn.metrics import r2_score\n",
        "    return r2_score(y_test, y_pred)\n",
        "\n",
        "# 데이터 불러오기\n",
        "input_data = pd.read_csv('2023_smartFarm_AI_hackathon_dataset.csv')\n",
        "\n",
        "# 농가구역 One-hot encoding\n",
        "input_data = pd.get_dummies(input_data, columns=['frmDist'], drop_first=False)\n",
        "\n",
        "# na값 drop\n",
        "input_data = input_data.dropna()\n",
        "\n",
        "# 특성과 타겟 변수 설정\n",
        "X = input_data.drop(columns=['outtrn_cumsum', 'HeatingEnergyUsage_cumsum'])\n",
        "Y = input_data[['outtrn_cumsum', 'HeatingEnergyUsage_cumsum']]\n",
        "\n",
        "# 트레이닝, 테스트 데이터 분리\n",
        "X_train, X_test, y_train, y_test = train_test_split(X, Y, test_size=0.2, random_state=42)\n",
        "\n",
        "# 표준화\n",
        "scaler = StandardScaler()\n",
        "X_train_scaled = scaler.fit_transform(X_train)\n",
        "X_test_scaled = scaler.transform(X_test)\n",
        "\n",
        "# Extra Trees Regressor 모델\n",
        "model = ExtraTreesRegressor(n_estimators=100, random_state=42)\n",
        "model.fit(X_train_scaled, y_train)\n",
        "y_pred = model.predict(X_test_scaled)\n",
        "\n",
        "# 평가\n",
        "rmse = calculate_rmse(y_test, y_pred)\n",
        "r2score = calculate_R2_score(y_test, y_pred)\n",
        "\n",
        "print(\"RMSE:\", rmse)\n",
        "print(\"R2_score:\", r2score)"
      ]
    }
  ],
  "metadata": {
    "colab": {
      "provenance": []
    },
    "kernelspec": {
      "display_name": "Python 3",
      "name": "python3"
    },
    "language_info": {
      "name": "python"
    }
  },
  "nbformat": 4,
  "nbformat_minor": 0
}
